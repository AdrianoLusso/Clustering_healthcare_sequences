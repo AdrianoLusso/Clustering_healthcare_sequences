{
 "cells": [
  {
   "cell_type": "code",
   "execution_count": 3,
   "id": "264d1c44-0dc9-4c0d-9b9a-9abc9dcdbfd8",
   "metadata": {},
   "outputs": [
    {
     "name": "stdout",
     "output_type": "stream",
     "text": [
      "\n",
      "  There is a binary version available (and will be installed) but the\n",
      "  source version is later:\n",
      "       binary source\n",
      "vegan 2.6-6.1  2.6-8\n",
      "\n",
      "package 'vegan' successfully unpacked and MD5 sums checked\n",
      "\n",
      "The downloaded binary packages are in\n",
      "\tC:\\Users\\Adriano\\AppData\\Local\\Temp\\RtmpYPoED2\\downloaded_packages\n"
     ]
    }
   ],
   "source": [
    "install.packages(\"vegan\",type = \"binary\")\n",
    "install.packages(\"TraMineR\",dependencies=TRUE)"
   ]
  },
  {
   "cell_type": "code",
   "execution_count": 3,
   "id": "37e6e7de-43b1-4f82-a497-4cafe62a716a",
   "metadata": {},
   "outputs": [
    {
     "data": {
      "text/html": [
       "'R version 4.4.1 (2024-06-14 ucrt)'"
      ],
      "text/latex": [
       "'R version 4.4.1 (2024-06-14 ucrt)'"
      ],
      "text/markdown": [
       "'R version 4.4.1 (2024-06-14 ucrt)'"
      ],
      "text/plain": [
       "[1] \"R version 4.4.1 (2024-06-14 ucrt)\""
      ]
     },
     "metadata": {},
     "output_type": "display_data"
    }
   ],
   "source": [
    "R.version.string"
   ]
  },
  {
   "cell_type": "code",
   "execution_count": 5,
   "id": "4b7b4c88-56f6-4010-878d-129ebc6d59f3",
   "metadata": {},
   "outputs": [],
   "source": [
    "library(\"TraMineR\")"
   ]
  }
 ],
 "metadata": {
  "kernelspec": {
   "display_name": "R",
   "language": "R",
   "name": "ir"
  },
  "language_info": {
   "codemirror_mode": "r",
   "file_extension": ".r",
   "mimetype": "text/x-r-source",
   "name": "R",
   "pygments_lexer": "r",
   "version": "4.4.1"
  }
 },
 "nbformat": 4,
 "nbformat_minor": 5
}
