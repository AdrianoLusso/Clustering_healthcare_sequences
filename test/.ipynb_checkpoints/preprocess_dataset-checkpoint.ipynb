{
 "cells": [
  {
   "cell_type": "markdown",
   "metadata": {
    "id": "28Mz20Xqvxui"
   },
   "source": [
    "# Preprocess dataset (local envirioment)"
   ]
  },
  {
   "cell_type": "markdown",
   "metadata": {
    "id": "oaQxdUDmwuri"
   },
   "source": [
    "### Installations and imports"
   ]
  },
  {
   "cell_type": "code",
   "execution_count": 1,
   "metadata": {
    "id": "xnHO7L9lx_8b"
   },
   "outputs": [],
   "source": [
    "# 1. RUN THIS (if not installed)\n",
    "#!pip install kmedoids\n",
    "#!pip install numpy\n",
    "#!pip install pandas"
   ]
  },
  {
   "cell_type": "code",
   "execution_count": 2,
   "metadata": {
    "id": "B7fc30rMwstt"
   },
   "outputs": [],
   "source": [
    "# 2. NECESSARY IMPORTS\n",
    "import numpy as np\n",
    "import pandas as pd\n",
    "import os\n",
    "from kmedoids import pam as Pam"
   ]
  },
  {
   "cell_type": "markdown",
   "metadata": {
    "id": "mwyPWrWnyjTQ"
   },
   "source": [
    "### Read dataset\n"
   ]
  },
  {
   "cell_type": "code",
   "execution_count": 3,
   "metadata": {
    "_cell_guid": "b1076dfc-b9ad-4769-8c92-a6c4dae69d19",
    "_uuid": "8f2839f25d086af736a60e9eeb907d3b93b6e0e5",
    "colab": {
     "base_uri": "https://localhost:8080/"
    },
    "id": "UPf8IMg0vxul",
    "outputId": "60d723fe-a299-4d8e-d841-ec9fe03266ab"
   },
   "outputs": [
    {
     "name": "stdout",
     "output_type": "stream",
     "text": [
      "dataset\\sars_combined_sequences.csv\n"
     ]
    }
   ],
   "source": [
    "for dirname, _, filenames in os.walk('dataset'):\n",
    "    for filename in filenames:\n",
    "        if filename != 'sars_combined_sequences.csv':\n",
    "            continue\n",
    "        print(os.path.join(dirname, filename))\n",
    "        df=pd.read_csv(os.path.join(dirname, filename))"
   ]
  },
  {
   "cell_type": "markdown",
   "metadata": {
    "id": "mv9XbGXCvxum"
   },
   "source": [
    "### Plot dataset"
   ]
  },
  {
   "cell_type": "code",
   "execution_count": 4,
   "metadata": {
    "colab": {
     "base_uri": "https://localhost:8080/",
     "height": 423
    },
    "id": "5XSeBJjFvxum",
    "outputId": "47988fea-c012-48a9-a11b-cb63d786d8ef"
   },
   "outputs": [
    {
     "data": {
      "text/html": [
       "<div>\n",
       "<style scoped>\n",
       "    .dataframe tbody tr th:only-of-type {\n",
       "        vertical-align: middle;\n",
       "    }\n",
       "\n",
       "    .dataframe tbody tr th {\n",
       "        vertical-align: top;\n",
       "    }\n",
       "\n",
       "    .dataframe thead th {\n",
       "        text-align: right;\n",
       "    }\n",
       "</style>\n",
       "<table border=\"1\" class=\"dataframe\">\n",
       "  <thead>\n",
       "    <tr style=\"text-align: right;\">\n",
       "      <th></th>\n",
       "      <th>sequence</th>\n",
       "      <th>id</th>\n",
       "      <th>description</th>\n",
       "      <th>label</th>\n",
       "    </tr>\n",
       "  </thead>\n",
       "  <tbody>\n",
       "    <tr>\n",
       "      <th>0</th>\n",
       "      <td>ATATTAGGTTTTTACCTTCCCAGGTAACAAACCAACTAACTCTCGA...</td>\n",
       "      <td>MG772934.1</td>\n",
       "      <td>MG772934.1 Bat SARS-like coronavirus isolate b...</td>\n",
       "      <td>bat-SARS</td>\n",
       "    </tr>\n",
       "    <tr>\n",
       "      <th>1</th>\n",
       "      <td>ATATTAGGTTTTTACCTTCCCAGGTAACAAACCAACTAACTCTCGA...</td>\n",
       "      <td>MG772933.1</td>\n",
       "      <td>MG772933.1 Bat SARS-like coronavirus isolate b...</td>\n",
       "      <td>bat-SARS</td>\n",
       "    </tr>\n",
       "    <tr>\n",
       "      <th>2</th>\n",
       "      <td>ATATTAGGTTTTTACCTACCCAGGAAAAGCCAACCAACCTCGATCT...</td>\n",
       "      <td>KY417152.1</td>\n",
       "      <td>KY417152.1 Bat SARS-like coronavirus isolate R...</td>\n",
       "      <td>bat-SARS</td>\n",
       "    </tr>\n",
       "    <tr>\n",
       "      <th>3</th>\n",
       "      <td>ATATTAGGTTTTTACCTACCCAGGAAAAGCCAACCAACCTCGATCT...</td>\n",
       "      <td>KY417151.1</td>\n",
       "      <td>KY417151.1 Bat SARS-like coronavirus isolate R...</td>\n",
       "      <td>bat-SARS</td>\n",
       "    </tr>\n",
       "    <tr>\n",
       "      <th>4</th>\n",
       "      <td>ATATTAGGTTTTTACCTACCCAGGAAAAGCCAACCAACCTCGATCT...</td>\n",
       "      <td>KY417150.1</td>\n",
       "      <td>KY417150.1 Bat SARS-like coronavirus isolate R...</td>\n",
       "      <td>bat-SARS</td>\n",
       "    </tr>\n",
       "    <tr>\n",
       "      <th>...</th>\n",
       "      <td>...</td>\n",
       "      <td>...</td>\n",
       "      <td>...</td>\n",
       "      <td>...</td>\n",
       "    </tr>\n",
       "    <tr>\n",
       "      <th>449</th>\n",
       "      <td>AGATCTGTTCTCTAAACGAACTTTAAAATCTGTGTGGCTGTCACTC...</td>\n",
       "      <td>MT253707.1</td>\n",
       "      <td>MT253707.1 Severe acute respiratory syndrome c...</td>\n",
       "      <td>SARS-cov-2</td>\n",
       "    </tr>\n",
       "    <tr>\n",
       "      <th>450</th>\n",
       "      <td>AGATCTGTTCTCTAAACGAACTTTAAAATCTGTGTGGCTGTCACTC...</td>\n",
       "      <td>MT253708.1</td>\n",
       "      <td>MT253708.1 Severe acute respiratory syndrome c...</td>\n",
       "      <td>SARS-cov-2</td>\n",
       "    </tr>\n",
       "    <tr>\n",
       "      <th>451</th>\n",
       "      <td>AGATCTGTTCTCTAAACGAACTTTAAAATCTGTGTGGCTGTCACTC...</td>\n",
       "      <td>MT253709.1</td>\n",
       "      <td>MT253709.1 Severe acute respiratory syndrome c...</td>\n",
       "      <td>SARS-cov-2</td>\n",
       "    </tr>\n",
       "    <tr>\n",
       "      <th>452</th>\n",
       "      <td>AGATCTGTTCTCTAAACGAACTTTAAAATCTGTGTGGCTGTCACTC...</td>\n",
       "      <td>MT253710.1</td>\n",
       "      <td>MT253710.1 Severe acute respiratory syndrome c...</td>\n",
       "      <td>SARS-cov-2</td>\n",
       "    </tr>\n",
       "    <tr>\n",
       "      <th>453</th>\n",
       "      <td>AGATCTGTTCTCTAAACGAACTTTAAAATCTGTGTGGCTGTCACTC...</td>\n",
       "      <td>MT198652.2</td>\n",
       "      <td>MT198652.2 Severe acute respiratory syndrome c...</td>\n",
       "      <td>SARS-cov-2</td>\n",
       "    </tr>\n",
       "  </tbody>\n",
       "</table>\n",
       "<p>454 rows × 4 columns</p>\n",
       "</div>"
      ],
      "text/plain": [
       "                                              sequence          id  \\\n",
       "0    ATATTAGGTTTTTACCTTCCCAGGTAACAAACCAACTAACTCTCGA...  MG772934.1   \n",
       "1    ATATTAGGTTTTTACCTTCCCAGGTAACAAACCAACTAACTCTCGA...  MG772933.1   \n",
       "2    ATATTAGGTTTTTACCTACCCAGGAAAAGCCAACCAACCTCGATCT...  KY417152.1   \n",
       "3    ATATTAGGTTTTTACCTACCCAGGAAAAGCCAACCAACCTCGATCT...  KY417151.1   \n",
       "4    ATATTAGGTTTTTACCTACCCAGGAAAAGCCAACCAACCTCGATCT...  KY417150.1   \n",
       "..                                                 ...         ...   \n",
       "449  AGATCTGTTCTCTAAACGAACTTTAAAATCTGTGTGGCTGTCACTC...  MT253707.1   \n",
       "450  AGATCTGTTCTCTAAACGAACTTTAAAATCTGTGTGGCTGTCACTC...  MT253708.1   \n",
       "451  AGATCTGTTCTCTAAACGAACTTTAAAATCTGTGTGGCTGTCACTC...  MT253709.1   \n",
       "452  AGATCTGTTCTCTAAACGAACTTTAAAATCTGTGTGGCTGTCACTC...  MT253710.1   \n",
       "453  AGATCTGTTCTCTAAACGAACTTTAAAATCTGTGTGGCTGTCACTC...  MT198652.2   \n",
       "\n",
       "                                           description       label  \n",
       "0    MG772934.1 Bat SARS-like coronavirus isolate b...    bat-SARS  \n",
       "1    MG772933.1 Bat SARS-like coronavirus isolate b...    bat-SARS  \n",
       "2    KY417152.1 Bat SARS-like coronavirus isolate R...    bat-SARS  \n",
       "3    KY417151.1 Bat SARS-like coronavirus isolate R...    bat-SARS  \n",
       "4    KY417150.1 Bat SARS-like coronavirus isolate R...    bat-SARS  \n",
       "..                                                 ...         ...  \n",
       "449  MT253707.1 Severe acute respiratory syndrome c...  SARS-cov-2  \n",
       "450  MT253708.1 Severe acute respiratory syndrome c...  SARS-cov-2  \n",
       "451  MT253709.1 Severe acute respiratory syndrome c...  SARS-cov-2  \n",
       "452  MT253710.1 Severe acute respiratory syndrome c...  SARS-cov-2  \n",
       "453  MT198652.2 Severe acute respiratory syndrome c...  SARS-cov-2  \n",
       "\n",
       "[454 rows x 4 columns]"
      ]
     },
     "execution_count": 4,
     "metadata": {},
     "output_type": "execute_result"
    }
   ],
   "source": [
    "df"
   ]
  },
  {
   "cell_type": "markdown",
   "metadata": {
    "id": "FbOBqHwsynfk"
   },
   "source": [
    "### Preprocess dataset and save"
   ]
  },
  {
   "cell_type": "markdown",
   "metadata": {
    "id": "SQhExEpLxalw"
   },
   "source": [
    "The dataset to be used will just be 100 sequences cut up up to 7 characters."
   ]
  },
  {
   "cell_type": "code",
   "execution_count": 5,
   "metadata": {},
   "outputs": [],
   "source": [
    "dataset = df.head(100).copy()\n",
    "sequences = [i[:7] for i in dataset['sequence'].tolist()]\n",
    "dataset['sequence'] = sequences\n",
    "\n",
    "for i in range(7):\n",
    "    dataset['element'+str(i+1)] = [seq[i] for seq in sequences]\n",
    "\n",
    "dataset\n",
    "dataset.to_csv('dataset/dataset.csv', index=False)"
   ]
  }
 ],
 "metadata": {
  "colab": {
   "provenance": []
  },
  "kaggle": {
   "accelerator": "none",
   "dataSources": [
    {
     "datasetId": 580688,
     "sourceId": 1050063,
     "sourceType": "datasetVersion"
    }
   ],
   "dockerImageVersionId": 30761,
   "isGpuEnabled": false,
   "isInternetEnabled": false,
   "language": "python",
   "sourceType": "notebook"
  },
  "kernelspec": {
   "display_name": "Python 3 (ipykernel)",
   "language": "python",
   "name": "python3"
  },
  "language_info": {
   "codemirror_mode": {
    "name": "ipython",
    "version": 3
   },
   "file_extension": ".py",
   "mimetype": "text/x-python",
   "name": "python",
   "nbconvert_exporter": "python",
   "pygments_lexer": "ipython3",
   "version": "3.9.19"
  }
 },
 "nbformat": 4,
 "nbformat_minor": 4
}
