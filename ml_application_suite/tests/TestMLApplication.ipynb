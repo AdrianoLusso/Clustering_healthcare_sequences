{
 "cells": [
  {
   "cell_type": "code",
   "id": "f5f9b38f-6e7c-4b09-b983-a6ab933b71ce",
   "metadata": {
    "ExecuteTime": {
     "end_time": "2024-10-14T15:15:00.270070Z",
     "start_time": "2024-10-14T15:14:58.221418Z"
    }
   },
   "source": [
    "import sys\n",
    "import os\n",
    "sys.path.append(os.path.abspath('..'))\n",
    "from src.model.mlApplication.MLApplication import MLApplication"
   ],
   "outputs": [],
   "execution_count": 1
  },
  {
   "cell_type": "code",
   "id": "32bcaae0-6ff4-4d24-bbcc-fb181ee0593c",
   "metadata": {
    "ExecuteTime": {
     "end_time": "2024-10-14T15:15:00.286474Z",
     "start_time": "2024-10-14T15:15:00.278823Z"
    }
   },
   "source": [
    "p=   {\n",
    "            \"debug\": True,\n",
    "\n",
    "            \"afiliados_practicas\": 'dataset/raw/affiliate_practice.csv',\n",
    "\n",
    "            \"practicas_interes\": {\n",
    "                \"diabetes\": \"dataset/raw/diabetes_practices.csv\"\n",
    "            },\n",
    "            \"estados_timeframes\": 'dataset/0/preprocessed/dataframes_states_dataset.csv',\n",
    "            \"afiliados_secuencias\": 'dataset/0/preprocessed/sequences_dataset.csv',\n",
    "            \"afiliados_secuencias_etiquetadas\": 'dataset/0/preprocessed/labeled_sequences_dataset.csv',\n",
    "\n",
    "            \"unidad_timeframe\": 'semestre',\n",
    "            \"numero_timeframes\": 7,\n",
    "            \"fecha_superior_ultimo_timeframe\": \"2024-07-1\",\n",
    "\n",
    "            \"matriz_disimilitud_precomputada\": False,\n",
    "            \"matriz_disimilitud\": \"dataset/0/preprocessed/dissimilarity_matrix.csv\",\n",
    "\n",
    "            \"n_grupos\": \"optimizado\",\n",
    "            \"umbral_de_filtrado_de_grupos\": None,\n",
    "\n",
    "            \"agrupamientoSecuencias\": \"dataset/0/results/clustering.json\"\n",
    "        }"
   ],
   "outputs": [],
   "execution_count": 2
  },
  {
   "cell_type": "code",
   "id": "07c98aed-e2e1-4775-8c1d-ab00a04f2366",
   "metadata": {
    "ExecuteTime": {
     "end_time": "2024-10-14T15:15:00.600611Z",
     "start_time": "2024-10-14T15:15:00.594238Z"
    }
   },
   "source": [
    "app = MLApplication()\n",
    "#app.run_affiliatesHealthcarePathways_clustering(p)"
   ],
   "outputs": [],
   "execution_count": 3
  },
  {
   "metadata": {},
   "cell_type": "code",
   "outputs": [],
   "execution_count": null,
   "source": "a = [[610, 1103, 4756, 4764, 5336, 5368, 5374, 6107, 10016, 10210, 10240, 10287, 10290, 10310, 10404, 10464, 10469, 10518, 10568, 10585, 10603, 10612, 10670, 10897, 10949, 10999, 11026, 11113, 11117, 11219, 11243, 11251, 11316, 11383, 11385, 11694, 10671, 11545]]\n",
   "id": "55416598d4869be1"
  }
 ],
 "metadata": {
  "kernelspec": {
   "display_name": "Python 3 (ipykernel)",
   "language": "python",
   "name": "python3"
  },
  "language_info": {
   "codemirror_mode": {
    "name": "ipython",
    "version": 3
   },
   "file_extension": ".py",
   "mimetype": "text/x-python",
   "name": "python",
   "nbconvert_exporter": "python",
   "pygments_lexer": "ipython3",
   "version": "3.12.5"
  }
 },
 "nbformat": 4,
 "nbformat_minor": 5
}
