{
 "cells": [
  {
   "cell_type": "code",
   "execution_count": 1,
   "metadata": {},
   "outputs": [
    {
     "data": {
      "text/plain": [
       "'holaaa'"
      ]
     },
     "execution_count": 1,
     "metadata": {},
     "output_type": "execute_result"
    }
   ],
   "source": [
    "from Package import Package\n",
    "types={\n",
    "    'a':int,\n",
    "    'b':float,\n",
    "    'c':str\n",
    "}\n",
    "a = Package(types=types)\n",
    "#a['a'] = 's'\n",
    "a.fit(\n",
    "    {\n",
    "        'a':2,\n",
    "        'b':2.1,\n",
    "        'c':'holaaa'\n",
    "    }\n",
    ")\n",
    "\n",
    "a['c']"
   ]
  },
  {
   "cell_type": "code",
   "execution_count": null,
   "metadata": {},
   "outputs": [],
   "source": [
    "i = 7\n",
    "j = (i-1)-6 % 12"
   ]
  },
  {
   "cell_type": "code",
   "execution_count": 6,
   "metadata": {},
   "outputs": [
    {
     "data": {
      "text/plain": [
       "'pepe'"
      ]
     },
     "execution_count": 6,
     "metadata": {},
     "output_type": "execute_result"
    }
   ],
   "source": [
    "from Package import Package\n",
    "types={\n",
    "    'a':int,\n",
    "    'b':float,\n",
    "    'c':str\n",
    "}\n",
    "constraints = {\n",
    "    'a': lambda x: x == 2,\n",
    "    'b': None,\n",
    "    'c': lambda x: x== 'pepe'\n",
    "}\n",
    "\n",
    "a = Package(types=types,constraints=constraints)\n",
    "#a['a'] = 's'\n",
    "a.fit(\n",
    "    {\n",
    "        'a':2,\n",
    "        'b':2.1,\n",
    "        'c':'pepe'\n",
    "    }\n",
    ")\n",
    "\n",
    "a['c']"
   ]
  },
  {
   "cell_type": "code",
   "execution_count": 1,
   "metadata": {},
   "outputs": [
    {
     "name": "stdout",
     "output_type": "stream",
     "text": [
      "SEMESTER STATES DATASET SAVED IN dataset/preprocessed/semester_states_dataset.csv\n",
      "\n",
      "LABELED SEQUENCES DATASET SAVED IN dataset/preprocessed/labeled_sequences_dataset.csv\n",
      "LABELED SEQUENCES DATASET SAVED IN dataset/preprocessed/sequences_dataset.csv\n",
      "\n",
      "DISSIMILARITY MATRIX SAVED IN dataset/preprocessed/dissimilarity_matrix.csv\n"
     ]
    }
   ],
   "source": [
    "from Clustering_AffiliateHealthcarePathways import Clustering_AffiliateHealthcarePathways\n",
    "ml = Clustering_AffiliateHealthcarePathways()\n",
    "\n",
    "input_directories = {\n",
    "    'afiliados_practicas': 'dataset/raw/affiliate_practice.csv', \n",
    "    'practicas_diabetes': 'dataset/raw/diabetes_practices.csv'\n",
    "}\n",
    "\n",
    "output_directories = {\n",
    "    'estados_semestre': 'dataset/preprocessed/semester_states_dataset.csv',\n",
    "    'afiliados_secuencias': 'dataset/preprocessed/sequences_dataset.csv',\n",
    "    'afiliados_secuencias_etiquetadas': 'dataset/preprocessed/labeled_sequences_dataset.csv',\n",
    "    'matriz_disimilitud':'dataset/preprocessed/dissimilarity_matrix.csv'}\n",
    "ml.preprocess_raw_dataset(input_directories,output_directories,True)"
   ]
  },
  {
   "cell_type": "code",
   "execution_count": 3,
   "metadata": {},
   "outputs": [
    {
     "name": "stdout",
     "output_type": "stream",
     "text": [
      "{}\n",
      "{'estados_semestre': 'dataset/preprocessed/semester_states_dataset.csv', 'afiliados_secuencias': 'dataset/preprocessed/sequences_dataset.csv', 'afiliados_secuencias_etiquetadas': 'dataset/preprocessed/labeled_sequences_dataset.csv', 'matriz_disimilitud': 'dataset/preprocessed/dissimilarity_matrix.csv'}\n"
     ]
    }
   ],
   "source": [
    "from Clustering_AffiliateHealthcarePathways import Clustering_AffiliateHealthcarePathways\n",
    "ml = Clustering_AffiliateHealthcarePathways()\n",
    "\n",
    "dirs = {'estados_semestre': 'dataset/preprocessed/semester_states_dataset.csv',\n",
    " 'afiliados_secuencias': 'dataset/preprocessed/sequences_dataset.csv',\n",
    " 'afiliados_secuencias_etiquetadas': 'dataset/preprocessed/labeled_sequences_dataset.csv',\n",
    " 'matriz_disimilitud': 'dataset/preprocessed/dissimilarity_matrix.csv'}\n",
    "\n",
    "print(ml.preprocessed_dataset_directories)\n",
    "ml.upload_preprocessed_dataset(dirs)\n",
    "print(ml.preprocessed_dataset_directories)"
   ]
  },
  {
   "cell_type": "markdown",
   "metadata": {},
   "source": [
    "# AffiliatesHealthcarePathwaysBuilder"
   ]
  },
  {
   "cell_type": "code",
   "execution_count": 1,
   "metadata": {},
   "outputs": [
    {
     "ename": "ImportError",
     "evalue": "attempted relative import beyond top-level package",
     "output_type": "error",
     "traceback": [
      "\u001b[1;31m---------------------------------------------------------------------------\u001b[0m",
      "\u001b[1;31mImportError\u001b[0m                               Traceback (most recent call last)",
      "Cell \u001b[1;32mIn[1], line 1\u001b[0m\n\u001b[1;32m----> 1\u001b[0m \u001b[38;5;28;01mfrom\u001b[39;00m \u001b[38;5;21;01mMLDomain\u001b[39;00m\u001b[38;5;21;01m.\u001b[39;00m\u001b[38;5;21;01mBuilders\u001b[39;00m\u001b[38;5;21;01m.\u001b[39;00m\u001b[38;5;21;01mAffiliatesHealthcarePathwaysBuilder\u001b[39;00m \u001b[38;5;28;01mimport\u001b[39;00m AffiliatesHealthcarePathwaysBuilder\n",
      "File \u001b[1;32m~\\Desktop\\Facultad\\Facultad\\5to año\\2do cuatrimestre\\Laboratorio de IA\\Clustering_healthcare_sequences\\ml_applications_suite\\MLDomain\\Builders\\AffiliatesHealthcarePathwaysBuilder.py:3\u001b[0m\n\u001b[0;32m      1\u001b[0m \u001b[38;5;28;01mfrom\u001b[39;00m \u001b[38;5;21;01m.\u001b[39;00m\u001b[38;5;21;01mMLDomainBuilder\u001b[39;00m \u001b[38;5;28;01mimport\u001b[39;00m MLDomainBuilder\n\u001b[0;32m      2\u001b[0m \u001b[38;5;28;01mfrom\u001b[39;00m \u001b[38;5;21;01m.\u001b[39;00m\u001b[38;5;21;01m.\u001b[39;00m\u001b[38;5;21;01mMLDomain_classes\u001b[39;00m \u001b[38;5;28;01mimport\u001b[39;00m AffiliatesHealthcarePathways\n\u001b[1;32m----> 3\u001b[0m \u001b[38;5;28;01mfrom\u001b[39;00m \u001b[38;5;21;01m.\u001b[39;00m\u001b[38;5;21;01m.\u001b[39;00m\u001b[38;5;21;01m.\u001b[39;00m\u001b[38;5;21;01mPackage\u001b[39;00m \u001b[38;5;28;01mimport\u001b[39;00m Package\n\u001b[0;32m      5\u001b[0m \u001b[38;5;28;01mimport\u001b[39;00m \u001b[38;5;21;01mnumpy\u001b[39;00m \u001b[38;5;28;01mas\u001b[39;00m \u001b[38;5;21;01mnp\u001b[39;00m\n\u001b[0;32m      6\u001b[0m \u001b[38;5;28;01mimport\u001b[39;00m \u001b[38;5;21;01mpandas\u001b[39;00m \u001b[38;5;28;01mas\u001b[39;00m \u001b[38;5;21;01mpd\u001b[39;00m\n",
      "\u001b[1;31mImportError\u001b[0m: attempted relative import beyond top-level package"
     ]
    }
   ],
   "source": [
    "from MLDomain.Builders.AffiliatesHealthcarePathwaysBuilder import AffiliatesHealthcarePathwaysBuilder"
   ]
  }
 ],
 "metadata": {
  "kernelspec": {
   "display_name": "Python 3 (ipykernel)",
   "language": "python",
   "name": "python3"
  },
  "language_info": {
   "codemirror_mode": {
    "name": "ipython",
    "version": 3
   },
   "file_extension": ".py",
   "mimetype": "text/x-python",
   "name": "python",
   "nbconvert_exporter": "python",
   "pygments_lexer": "ipython3",
   "version": "3.12.5"
  }
 },
 "nbformat": 4,
 "nbformat_minor": 4
}
