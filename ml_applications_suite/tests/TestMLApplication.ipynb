{
 "cells": [
  {
   "cell_type": "code",
   "execution_count": 1,
   "id": "f5f9b38f-6e7c-4b09-b983-a6ab933b71ce",
   "metadata": {},
   "outputs": [],
   "source": [
    "import sys\n",
    "import os\n",
    "sys.path.append(os.path.abspath('..'))\n",
    "from main.mlApplication.MLApplication import MLApplication"
   ]
  },
  {
   "cell_type": "code",
   "execution_count": 2,
   "id": "32bcaae0-6ff4-4d24-bbcc-fb181ee0593c",
   "metadata": {},
   "outputs": [],
   "source": [
    "p = {\n",
    "\n",
    "                \"debug\":True,\n",
    "                \n",
    "                \"afiliados_practicas\":'../dataset/raw/affiliate_practice.csv',\n",
    "                \"afiliados_monodroga\":None,\n",
    "                \n",
    "                \"practicas_interes\":{\n",
    "                    \"diabetes\":\"../dataset/raw/diabetes_practices.csv\"\n",
    "                },\n",
    "                \"estados_timeframes\":'../dataset/preprocessed/dataframes_states_dataset.csv',\n",
    "                \"afiliados_secuencias\":'../dataset/preprocessed/sequences_dataset.csv',\n",
    "                \"afiliados_secuencias_etiquetadas\":'../dataset/preprocessed/labeled_sequences_dataset.csv',\n",
    "                \n",
    "                \"unidad_timeframe\":'semestre',\n",
    "                \"numero_timeframes\":7,\n",
    "                \"fecha_superior_ultimo_timeframe\":\"2024-07-1\",\n",
    "                \n",
    "                \"matriz_disimilitud_precomputada\":False,\n",
    "                \"matriz_disimilitud\":\"../dataset/preprocessed/dissimilarity_matrix.csv\",\n",
    "\n",
    "                \"n_grupos\" : \"optimizado\",\n",
    "                \"umbral_de_filtrado_de_grupos\": None,\n",
    "\n",
    "                \"agrupamiento\":\"../dataset/results.clustering.csv\"\n",
    "    }"
   ]
  },
  {
   "cell_type": "code",
   "execution_count": 3,
   "id": "07c98aed-e2e1-4775-8c1d-ab00a04f2366",
   "metadata": {},
   "outputs": [
    {
     "name": "stdout",
     "output_type": "stream",
     "text": [
      "SEMESTER STATES DATASET SAVED IN ../dataset/preprocessed/dataframes_states_dataset.csv\n",
      "\n"
     ]
    },
    {
     "ename": "CalledProcessError",
     "evalue": "Command '['Rscript', '../../scripts/optimal_matching.R', '../dataset/preprocessed/sequences_dataset.csv', '../dataset/preprocessed/dissimilarity_matrix.csv']' returned non-zero exit status 3221225477.",
     "output_type": "error",
     "traceback": [
      "\u001b[1;31m---------------------------------------------------------------------------\u001b[0m",
      "\u001b[1;31mCalledProcessError\u001b[0m                        Traceback (most recent call last)",
      "Cell \u001b[1;32mIn[3], line 2\u001b[0m\n\u001b[0;32m      1\u001b[0m app \u001b[38;5;241m=\u001b[39m MLApplication()\n\u001b[1;32m----> 2\u001b[0m \u001b[43mapp\u001b[49m\u001b[38;5;241;43m.\u001b[39;49m\u001b[43mrun_affiliatesHealthcarePathways_clustering\u001b[49m\u001b[43m(\u001b[49m\u001b[43mp\u001b[49m\u001b[43m)\u001b[49m\n",
      "File \u001b[1;32m~\\Desktop\\Facultad\\Facultad\\5to año\\2do cuatrimestre\\Laboratorio de IA\\Clustering_healthcare_sequences\\ml_applications_suite\\main\\mlApplication\\MLApplication.py:117\u001b[0m, in \u001b[0;36mMLApplication.run_affiliatesHealthcarePathways_clustering\u001b[1;34m(self, p)\u001b[0m\n\u001b[0;32m    115\u001b[0m \u001b[38;5;66;03m#BUILDER.create_sequences_dataset()\u001b[39;00m\n\u001b[0;32m    116\u001b[0m \u001b[38;5;28;01mif\u001b[39;00m \u001b[38;5;129;01mnot\u001b[39;00m p[\u001b[38;5;124m'\u001b[39m\u001b[38;5;124mmatriz_disimilitud_precomputada\u001b[39m\u001b[38;5;124m'\u001b[39m]:\n\u001b[1;32m--> 117\u001b[0m     \u001b[43mBUILDER\u001b[49m\u001b[38;5;241;43m.\u001b[39;49m\u001b[43mcalculate_dissimilarity_matrix\u001b[49m\u001b[43m(\u001b[49m\u001b[43m)\u001b[49m\n\u001b[0;32m    118\u001b[0m ML_DOMAIN \u001b[38;5;241m=\u001b[39m BUILDER\u001b[38;5;241m.\u001b[39mget_final_product()\n\u001b[0;32m    121\u001b[0m \u001b[38;5;66;03m###############################################\u001b[39;00m\n\u001b[0;32m    122\u001b[0m \u001b[38;5;66;03m#          7. CREATE THE ML ALGORITHM         #\u001b[39;00m\n\u001b[0;32m    123\u001b[0m \u001b[38;5;66;03m###############################################\u001b[39;00m\n",
      "File \u001b[1;32m~\\Desktop\\Facultad\\Facultad\\5to año\\2do cuatrimestre\\Laboratorio de IA\\Clustering_healthcare_sequences\\ml_applications_suite\\main\\mlDomain\\builders\\AffiliatesHealthcarePathwaysBuilder.py:281\u001b[0m, in \u001b[0;36mAffiliatesHealthcarePathwaysBuilder.calculate_dissimilarity_matrix\u001b[1;34m(self)\u001b[0m\n\u001b[0;32m    278\u001b[0m \u001b[38;5;28;01mdef\u001b[39;00m \u001b[38;5;21mcalculate_dissimilarity_matrix\u001b[39m(\u001b[38;5;28mself\u001b[39m):\n\u001b[0;32m    279\u001b[0m \u001b[38;5;250m    \u001b[39m\u001b[38;5;124;03m'''\u001b[39;00m\n\u001b[0;32m    280\u001b[0m \u001b[38;5;124;03m    '''\u001b[39;00m\n\u001b[1;32m--> 281\u001b[0m     \u001b[43msubprocess\u001b[49m\u001b[38;5;241;43m.\u001b[39;49m\u001b[43mrun\u001b[49m\u001b[43m(\u001b[49m\u001b[43m[\u001b[49m\u001b[38;5;124;43m'\u001b[39;49m\u001b[38;5;124;43mRscript\u001b[39;49m\u001b[38;5;124;43m'\u001b[39;49m\u001b[43m,\u001b[49m\u001b[43m \u001b[49m\u001b[38;5;124;43m'\u001b[39;49m\u001b[38;5;124;43m../../scripts/optimal_matching.R\u001b[39;49m\u001b[38;5;124;43m'\u001b[39;49m\u001b[43m,\u001b[49m\n\u001b[0;32m    282\u001b[0m \u001b[43m                        \u001b[49m\u001b[38;5;28;43mself\u001b[39;49m\u001b[38;5;241;43m.\u001b[39;49m\u001b[43mpreprocessedDataset_directories\u001b[49m\u001b[43m[\u001b[49m\u001b[38;5;124;43m'\u001b[39;49m\u001b[38;5;124;43mafiliados_secuencias\u001b[39;49m\u001b[38;5;124;43m'\u001b[39;49m\u001b[43m]\u001b[49m\u001b[43m,\u001b[49m\n\u001b[0;32m    283\u001b[0m \u001b[43m                        \u001b[49m\u001b[38;5;28;43mself\u001b[39;49m\u001b[38;5;241;43m.\u001b[39;49m\u001b[43mpreprocessedDataset_directories\u001b[49m\u001b[43m[\u001b[49m\u001b[38;5;124;43m'\u001b[39;49m\u001b[38;5;124;43mmatriz_disimilitud\u001b[39;49m\u001b[38;5;124;43m'\u001b[39;49m\u001b[43m]\u001b[49m\u001b[43m]\u001b[49m\u001b[43m,\u001b[49m\n\u001b[0;32m    284\u001b[0m \u001b[43m                        \u001b[49m\u001b[43mcheck\u001b[49m\u001b[38;5;241;43m=\u001b[39;49m\u001b[38;5;28;43;01mTrue\u001b[39;49;00m\u001b[43m,\u001b[49m\u001b[43m \u001b[49m\u001b[43mcapture_output\u001b[49m\u001b[38;5;241;43m=\u001b[39;49m\u001b[38;5;28;43;01mTrue\u001b[39;49;00m\u001b[43m,\u001b[49m\u001b[43m \u001b[49m\u001b[43mtext\u001b[49m\u001b[38;5;241;43m=\u001b[39;49m\u001b[38;5;28;43;01mTrue\u001b[39;49;00m\u001b[43m)\u001b[49m\n\u001b[0;32m    287\u001b[0m     \u001b[38;5;28mprint\u001b[39m(\u001b[38;5;124m\"\u001b[39m\u001b[38;5;124mDISSIMILARITY MATRIX SAVED IN \u001b[39m\u001b[38;5;124m\"\u001b[39m\u001b[38;5;241m+\u001b[39m \u001b[38;5;28mself\u001b[39m\u001b[38;5;241m.\u001b[39mpreprocessedDataset_directories[\u001b[38;5;124m'\u001b[39m\u001b[38;5;124mmatriz_disimilitud\u001b[39m\u001b[38;5;124m'\u001b[39m])\n",
      "File \u001b[1;32m~\\anaconda3\\envs\\LabIA\\Lib\\subprocess.py:571\u001b[0m, in \u001b[0;36mrun\u001b[1;34m(input, capture_output, timeout, check, *popenargs, **kwargs)\u001b[0m\n\u001b[0;32m    569\u001b[0m     retcode \u001b[38;5;241m=\u001b[39m process\u001b[38;5;241m.\u001b[39mpoll()\n\u001b[0;32m    570\u001b[0m     \u001b[38;5;28;01mif\u001b[39;00m check \u001b[38;5;129;01mand\u001b[39;00m retcode:\n\u001b[1;32m--> 571\u001b[0m         \u001b[38;5;28;01mraise\u001b[39;00m CalledProcessError(retcode, process\u001b[38;5;241m.\u001b[39margs,\n\u001b[0;32m    572\u001b[0m                                  output\u001b[38;5;241m=\u001b[39mstdout, stderr\u001b[38;5;241m=\u001b[39mstderr)\n\u001b[0;32m    573\u001b[0m \u001b[38;5;28;01mreturn\u001b[39;00m CompletedProcess(process\u001b[38;5;241m.\u001b[39margs, retcode, stdout, stderr)\n",
      "\u001b[1;31mCalledProcessError\u001b[0m: Command '['Rscript', '../../scripts/optimal_matching.R', '../dataset/preprocessed/sequences_dataset.csv', '../dataset/preprocessed/dissimilarity_matrix.csv']' returned non-zero exit status 3221225477."
     ]
    }
   ],
   "source": [
    "app = MLApplication()\n",
    "app.run_affiliatesHealthcarePathways_clustering(p)"
   ]
  }
 ],
 "metadata": {
  "kernelspec": {
   "display_name": "Python 3 (ipykernel)",
   "language": "python",
   "name": "python3"
  },
  "language_info": {
   "codemirror_mode": {
    "name": "ipython",
    "version": 3
   },
   "file_extension": ".py",
   "mimetype": "text/x-python",
   "name": "python",
   "nbconvert_exporter": "python",
   "pygments_lexer": "ipython3",
   "version": "3.12.5"
  }
 },
 "nbformat": 4,
 "nbformat_minor": 5
}
