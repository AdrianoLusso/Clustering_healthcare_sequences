{
 "cells": [
  {
   "cell_type": "code",
   "execution_count": 1,
   "metadata": {},
   "outputs": [
    {
     "data": {
      "text/plain": [
       "'holaaa'"
      ]
     },
     "execution_count": 1,
     "metadata": {},
     "output_type": "execute_result"
    }
   ],
   "source": [
    "from Package import Package\n",
    "types={\n",
    "    'a':int,\n",
    "    'b':float,\n",
    "    'c':str\n",
    "}\n",
    "a = Package(types=types)\n",
    "#a['a'] = 's'\n",
    "a.fit(\n",
    "    {\n",
    "        'a':2,\n",
    "        'b':2.1,\n",
    "        'c':'holaaa'\n",
    "    }\n",
    ")\n",
    "\n",
    "a['c']"
   ]
  },
  {
   "cell_type": "code",
   "execution_count": null,
   "metadata": {},
   "outputs": [],
   "source": [
    "i = 7\n",
    "j = (i-1)-6 % 12"
   ]
  },
  {
   "cell_type": "code",
   "execution_count": 6,
   "metadata": {},
   "outputs": [
    {
     "data": {
      "text/plain": [
       "'pepe'"
      ]
     },
     "execution_count": 6,
     "metadata": {},
     "output_type": "execute_result"
    }
   ],
   "source": [
    "from Package import Package\n",
    "types={\n",
    "    'a':int,\n",
    "    'b':float,\n",
    "    'c':str\n",
    "}\n",
    "constraints = {\n",
    "    'a': lambda x: x == 2,\n",
    "    'b': None,\n",
    "    'c': lambda x: x== 'pepe'\n",
    "}\n",
    "\n",
    "a = Package(types=types,constraints=constraints)\n",
    "#a['a'] = 's'\n",
    "a.fit(\n",
    "    {\n",
    "        'a':2,\n",
    "        'b':2.1,\n",
    "        'c':'pepe'\n",
    "    }\n",
    ")\n",
    "\n",
    "a['c']"
   ]
  },
  {
   "cell_type": "code",
   "execution_count": 1,
   "metadata": {},
   "outputs": [
    {
     "name": "stdout",
     "output_type": "stream",
     "text": [
      "SEMESTER STATES DATASET SAVED IN dataset/preprocessed/semester_states_dataset.csv\n",
      "\n",
      "LABELED SEQUENCES DATASET SAVED IN dataset/preprocessed/labeled_sequences_dataset.csv\n",
      "LABELED SEQUENCES DATASET SAVED IN dataset/preprocessed/sequences_dataset.csv\n",
      "\n",
      "DISSIMILARITY MATRIX SAVED IN dataset/preprocessed/dissimilarity_matrix.csv\n"
     ]
    }
   ],
   "source": [
    "from Clustering_AffiliateHealthcarePathways import Clustering_AffiliateHealthcarePathways\n",
    "ml = Clustering_AffiliateHealthcarePathways()\n",
    "\n",
    "input_directories = {\n",
    "    'afiliados_practicas': 'dataset/raw/affiliate_practice.csv', \n",
    "    'practicas_diabetes': 'dataset/raw/diabetes_practices.csv'\n",
    "}\n",
    "\n",
    "output_directories = {\n",
    "    'estados_semestre': 'dataset/preprocessed/semester_states_dataset.csv',\n",
    "    'afiliados_secuencias': 'dataset/preprocessed/sequences_dataset.csv',\n",
    "    'afiliados_secuencias_etiquetadas': 'dataset/preprocessed/labeled_sequences_dataset.csv',\n",
    "    'matriz_disimilitud':'dataset/preprocessed/dissimilarity_matrix.csv'}\n",
    "ml.preprocess_raw_dataset(input_directories,output_directories,True)"
   ]
  },
  {
   "cell_type": "code",
   "execution_count": 3,
   "metadata": {},
   "outputs": [
    {
     "name": "stdout",
     "output_type": "stream",
     "text": [
      "{}\n",
      "{'estados_semestre': 'dataset/preprocessed/semester_states_dataset.csv', 'afiliados_secuencias': 'dataset/preprocessed/sequences_dataset.csv', 'afiliados_secuencias_etiquetadas': 'dataset/preprocessed/labeled_sequences_dataset.csv', 'matriz_disimilitud': 'dataset/preprocessed/dissimilarity_matrix.csv'}\n"
     ]
    }
   ],
   "source": [
    "from Clustering_AffiliateHealthcarePathways import Clustering_AffiliateHealthcarePathways\n",
    "ml = Clustering_AffiliateHealthcarePathways()\n",
    "\n",
    "dirs = {'estados_semestre': 'dataset/preprocessed/semester_states_dataset.csv',\n",
    " 'afiliados_secuencias': 'dataset/preprocessed/sequences_dataset.csv',\n",
    " 'afiliados_secuencias_etiquetadas': 'dataset/preprocessed/labeled_sequences_dataset.csv',\n",
    " 'matriz_disimilitud': 'dataset/preprocessed/dissimilarity_matrix.csv'}\n",
    "\n",
    "print(ml.preprocessed_dataset_directories)\n",
    "ml.upload_preprocessed_dataset(dirs)\n",
    "print(ml.preprocessed_dataset_directories)"
   ]
  },
  {
   "cell_type": "markdown",
   "metadata": {},
   "source": [
    "# AffiliatesHealthcarePathwaysBuilder"
   ]
  },
  {
   "cell_type": "code",
   "execution_count": 1,
   "metadata": {
    "scrolled": true
   },
   "outputs": [
    {
     "name": "stdout",
     "output_type": "stream",
     "text": [
      "SEMESTER STATES DATASET SAVED IN dataset/preprocessed/semester_states_dataset.csv\n",
      "\n",
      "LABELED SEQUENCES DATASET SAVED IN dataset/preprocessed/labeled_sequences_dataset.csv\n",
      "LABELED SEQUENCES DATASET SAVED IN dataset/preprocessed/sequences_dataset.csv\n",
      "\n"
     ]
    }
   ],
   "source": [
    "from main.mlDomain.builders.AffiliatesHealthcarePathwaysBuilder import AffiliatesHealthcarePathwaysBuilder\n",
    "\n",
    "\n",
    "\n",
    "#, \n",
    "#    'practicas_diabetes': 'dataset/raw/diabetes_practices.csv'\n",
    "\n",
    "b = AffiliatesHealthcarePathwaysBuilder(debug=True)\n",
    "\n",
    "# DEFINE AFFILIATESPRACTICES CSV\n",
    "affiliatesPractices = {\n",
    "    'afiliados_practicas': 'dataset/raw/affiliate_practice.csv'\n",
    "}\n",
    "b.define_rawDataset_affiliatesPractices(affiliatesPractices)\n",
    "#print(b.rawDataset_affiliatesPractices_directory)\n",
    "\n",
    "# DEFINE AFFILIATEDRUGS CSV\n",
    "affiliatesDrugs = {\n",
    "    'afiliados_monodrogas': 'dataset/raw/affiliate_monodrug.csv'\n",
    "}\n",
    "b.define_rawDataset_affiliatesDrugs(affiliatesDrugs)\n",
    "#print(b.rawDataset_affiliatesDrugs_directory)\n",
    "\n",
    "# ADD PRACTICES OF INTEREST\n",
    "pi = {\n",
    "    'diabetes': 'dataset/raw/diabetes_practices.csv'\n",
    "    #,'cardio': 'dataset/raw/cardio_practices.csv'\n",
    "}\n",
    "for key,value in pi.items():\n",
    "    b.add_rawDataset_practicesOfInterest(key,value)\n",
    "#print(b.rawDataset_practicesOfInterest_directories)\n",
    "\n",
    "# DEFINE PREPROCESSED DATASETS DIRS\n",
    "preprocessed = {\n",
    "    'estados_periodosTemporales': 'dataset/preprocessed/semester_states_dataset.csv',\n",
    "    'afiliados_secuencias': 'dataset/preprocessed/sequences_dataset.csv',\n",
    "    'afiliados_secuencias_etiquetadas': 'dataset/preprocessed/labeled_sequences_dataset.csv'}\n",
    "b.define_preprocessedDatasets(preprocessed)\n",
    "#print(b.preprocessedDataset_directories)\n",
    "\n",
    "# DEFINE TIMEFRAME PROPS\n",
    "b.define_timeframe_properties('semestre',7,'2024/07/01')\n",
    "#print(b.timeframe_unity+' - n:',b.n_timeframes)\n",
    "\n",
    "# READ PRACTICES OF INTEREST FROM ITS DIRECTORIES\n",
    "b.read_practicesOfInterest()\n",
    "#print(len(b.practicesOfInterest_ids))\n",
    "\n",
    "#CREATE TIMEFRAME STATES\n",
    "b.create_timeframe_states_dataset()\n",
    "\n",
    "# FILTER THE AFFILIATEPRACTICES DATASET\n",
    "b.filter_affiliatesPractices_raw_dataset()\n",
    "\n",
    "b.define_affiliates_and_timeframes()\n",
    "#print(b.affiliates)\n",
    "#print(b.timeframes)\n",
    "\n",
    "b.create_sequences_dataset()"
   ]
  }
 ],
 "metadata": {
  "kernelspec": {
   "display_name": "Python 3 (ipykernel)",
   "language": "python",
   "name": "python3"
  },
  "language_info": {
   "codemirror_mode": {
    "name": "ipython",
    "version": 3
   },
   "file_extension": ".py",
   "mimetype": "text/x-python",
   "name": "python",
   "nbconvert_exporter": "python",
   "pygments_lexer": "ipython3",
   "version": "3.12.5"
  }
 },
 "nbformat": 4,
 "nbformat_minor": 4
}
