{
 "cells": [
  {
   "cell_type": "code",
   "execution_count": 1,
   "metadata": {},
   "outputs": [],
   "source": [
    "from Package import Package\n",
    "from AffiliateHealthcarePathways_MLApplication import AffiliateHealthcarePatways_MLApplication"
   ]
  },
  {
   "cell_type": "code",
   "execution_count": 2,
   "metadata": {},
   "outputs": [
    {
     "data": {
      "text/plain": [
       "'holaaa'"
      ]
     },
     "execution_count": 2,
     "metadata": {},
     "output_type": "execute_result"
    }
   ],
   "source": [
    "props={\n",
    "    'a':int,\n",
    "    'b':float,\n",
    "    'c':str\n",
    "}\n",
    "a = Package(props=props)\n",
    "#a['a'] = 's'\n",
    "a.fit(\n",
    "    {\n",
    "        'a':2,\n",
    "        'b':2.1,\n",
    "        'c':'holaaa'\n",
    "    }\n",
    ")\n",
    "\n",
    "a['c']"
   ]
  },
  {
   "cell_type": "code",
   "execution_count": 1,
   "metadata": {},
   "outputs": [
    {
     "data": {
      "text/plain": [
       "{'estados_semestre': str,\n",
       " 'afiliados_secuencias': str,\n",
       " 'afiliados_secuencias_etiquetadas': str,\n",
       " 'matriz_disimilitud': str}"
      ]
     },
     "metadata": {},
     "output_type": "display_data"
    }
   ],
   "source": [
    "from AffiliateHealthcarePathways_MLApplication import AffiliateHealthcarePatways_MLApplication\n",
    "ml = AffiliateHealthcarePatways_MLApplication()\n",
    "\n",
    "input_directories = {\n",
    "    'afiliados_practicas': 'dataset/raw/affiliate_practice.csv', \n",
    "    'practicas_diabetes': 'dataset/raw/diabetes_practices.csv'\n",
    "}\n",
    "\n",
    "output_directories = {\n",
    "    'estados_semestre': 'dataset/preprocessed/semester_states_dataset.csv',\n",
    "    'afiliados_secuencias': 'dataset/preprocessed/sequences_dataset.csv',\n",
    "    'afiliados_secuencias_etiquetadas': 'dataset/preprocessed/labeled_sequences_dataset.csv',\n",
    "    'matriz_disimilitud':'dataset/preprocessed/dissimilarity_matrix.csv'}\n",
    "ml.preprocess_raw_dataset(input_directories,output_directories)"
   ]
  }
 ],
 "metadata": {
  "kernelspec": {
   "display_name": "Python 3 (ipykernel)",
   "language": "python",
   "name": "python3"
  },
  "language_info": {
   "codemirror_mode": {
    "name": "ipython",
    "version": 3
   },
   "file_extension": ".py",
   "mimetype": "text/x-python",
   "name": "python",
   "nbconvert_exporter": "python",
   "pygments_lexer": "ipython3",
   "version": "3.12.5"
  }
 },
 "nbformat": 4,
 "nbformat_minor": 4
}
